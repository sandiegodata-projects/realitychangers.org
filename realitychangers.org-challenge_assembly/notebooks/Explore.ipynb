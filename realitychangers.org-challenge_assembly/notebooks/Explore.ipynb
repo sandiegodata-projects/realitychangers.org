{
 "cells": [
  {
   "cell_type": "code",
   "execution_count": 1,
   "metadata": {},
   "outputs": [],
   "source": [
    "import sys\n",
    "!{sys.executable} -mpip install -q seaborn nameparser"
   ]
  },
  {
   "cell_type": "code",
   "execution_count": 2,
   "metadata": {},
   "outputs": [],
   "source": [
    "import seaborn as sns\n",
    "import metapack as mp\n",
    "import pandas as pd\n",
    "import numpy as np\n",
    "import matplotlib.pyplot as plt\n",
    "from IPython.display import display \n",
    "from nameparser import HumanName\n",
    "\n",
    "from scipy.stats import ttest_1samp, ttest_rel, ttest_ind\n",
    "\n",
    "%matplotlib inline\n",
    "sns.set_context('notebook')\n",
    "mp.jupyter.init()\n"
   ]
  },
  {
   "cell_type": "code",
   "execution_count": 3,
   "metadata": {},
   "outputs": [
    {
     "data": {
      "text/html": [
       "<h1>Challenge Assemby Analysis</h1>\n",
       "<p><code>realitychangers.org-challenge_assembly-2</code> Last Update: 2019-05-27T16:19:12</p>\n",
       "<p>__</p>\n",
       "<h2>Contacts</h2>\n",
       "<ul>\n",
       "<li><strong>Wrangler</strong> <a href=\"mailto:eric@civicknowledge.com\">Eric Busboom</a>, <a href=\"http://civicknowledge.com\">Civic Knowledge</a></li>\n",
       "</ul>\n",
       "<h2>Resources</h2>\n",
       "<ul>\n",
       "<li><strong> <a href=\"data/accepted_students.csv\">accepted_students</a></strong>. </li>\n",
       "<li><strong> <a href=\"data/all_students.csv\">all_students</a></strong>. </li>\n",
       "</ul>\n",
       "<h2>References</h2>\n",
       "<ul>\n",
       "<li><strong><a href=\"gs://1rCBl4ay7QFCaqKpEd66_u7TtgB2yN7EFXO40HTkQddM\">accepted_students_source</a></strong>. </li>\n",
       "<li><strong><a href=\"gs://16ENWTVx4c_IuQqYDpMVLGIslnSuI9wZF6adK3qO6gHg\">all_students_source</a></strong>. </li>\n",
       "</ul>"
      ],
      "text/plain": [
       "# Challenge Assemby Analysis\n",
       "`realitychangers.org-challenge_assembly-2` Last Update: 2019-05-27T16:19:12\n",
       "\n",
       "__\n",
       "\n",
       "\n",
       "\n",
       "\n",
       " \n",
       " \n",
       "## Contacts\n",
       "\n",
       "* **Wrangler** [Eric Busboom](mailto:eric@civicknowledge.com), [Civic Knowledge](http://civicknowledge.com)\n",
       " \n",
       "## Resources\n",
       "\n",
       "* ** [accepted_students](data/accepted_students.csv)**. \n",
       "* ** [all_students](data/all_students.csv)**. \n",
       " \n",
       "## References\n",
       "\n",
       "* **[accepted_students_source](gs://1rCBl4ay7QFCaqKpEd66_u7TtgB2yN7EFXO40HTkQddM)**. \n",
       "* **[all_students_source](gs://16ENWTVx4c_IuQqYDpMVLGIslnSuI9wZF6adK3qO6gHg)**. "
      ]
     },
     "execution_count": 3,
     "metadata": {},
     "output_type": "execute_result"
    }
   ],
   "source": [
    "pkg = mp.jupyter.open_package()\n",
    "#pkg = mp.jupyter.open_source_package()\n",
    "pkg"
   ]
  },
  {
   "cell_type": "code",
   "execution_count": 4,
   "metadata": {},
   "outputs": [],
   "source": [
    "# Maps only the race_eth of accepted students\n",
    "race_eth_map = {\n",
    " 'Latino': 'Latino',\n",
    " 'Filipino': 'Filipino',\n",
    " 'Black': 'Black',\n",
    " 'Mexican': 'Latino',\n",
    " 'Black, White': 'Black',\n",
    " 'Hispanic or Latino': 'Latino',\n",
    " 'Hispanic': 'Latino',\n",
    " 'Asian': 'Asian',\n",
    " 'African American': 'Black',\n",
    " 'Hispanic or Latino, African American': 'Latino',\n",
    " 'Somalian': 'Black',\n",
    " 'African America/Black': 'Black',\n",
    " 'Hispanic or Latino, Native American': 'Latino',\n",
    " 'African American/Black, Native American': 'Black',\n",
    " 'African American/Black': 'Black'}"
   ]
  },
  {
   "cell_type": "code",
   "execution_count": 32,
   "metadata": {},
   "outputs": [
    {
     "data": {
      "text/plain": [
       "False    473\n",
       "True      60\n",
       "Name: live_with_mexican_mother, dtype: int64"
      ]
     },
     "execution_count": 32,
     "metadata": {},
     "output_type": "execute_result"
    }
   ],
   "source": [
    "astd = pkg.resource('accepted_students').dataframe()\n",
    "students = pkg.resource('all_students').dataframe()\n",
    "students['gpa_delta'] = students.gpa2 -  students.gpa1\n",
    "m = astd.merge(students, on='name_key', how='outer')\n",
    "m['race_eth'] = m.race_eth.apply( lambda v: race_eth_map.get(v,'Unknown'))\n",
    "m['accepted'] = ~m.year_x.isnull()\n",
    "m['live_with_mexican_mother'] = (m.live_with_mom == 'Yes') & (m.mother_birth_country == 'Mexico')\n",
    "\n",
    "accepted = m[m['accepted']].dropna(subset=['gpa1', 'gpa2'])\n",
    "not_accepted = m[~m['accepted']].dropna(subset=['gpa1', 'gpa2'])\n"
   ]
  },
  {
   "cell_type": "code",
   "execution_count": 36,
   "metadata": {},
   "outputs": [
    {
     "data": {
      "text/plain": [
       "(131, 55)"
      ]
     },
     "execution_count": 36,
     "metadata": {},
     "output_type": "execute_result"
    }
   ],
   "source": [
    "len(astd), len(accepted)"
   ]
  },
  {
   "cell_type": "markdown",
   "metadata": {},
   "source": [
    "The t-statistic is the difference in means divided by the standard error: \n",
    "\n",
    "$t_{\\widehat{\\beta}} = \\frac{\\widehat\\beta - \\beta_0}{\\operatorname{s.e.}(\\widehat\\beta)}$"
   ]
  },
  {
   "cell_type": "code",
   "execution_count": 6,
   "metadata": {},
   "outputs": [
    {
     "data": {
      "text/plain": [
       "<matplotlib.axes._subplots.AxesSubplot at 0x128b247f0>"
      ]
     },
     "execution_count": 6,
     "metadata": {},
     "output_type": "execute_result"
    },
    {
     "data": {
      "image/png": "[encoded data removed]",
      "text/plain": [
       "<Figure size 432x288 with 1 Axes>"
      ]
     },
     "metadata": {
      "needs_background": "light"
     },
     "output_type": "display_data"
    }
   ],
   "source": [
    "fig, ax = plt.subplots()\n",
    "\n",
    "sns.distplot(accepted.gpa_delta, ax=ax, kde=False)\n",
    "sns.distplot(not_accepted.gpa_delta, ax=ax, kde=False)"
   ]
  },
  {
   "cell_type": "code",
   "execution_count": 7,
   "metadata": {},
   "outputs": [
    {
     "data": {
      "text/plain": [
       "count    55.000000\n",
       "mean      0.130364\n",
       "std       0.598021\n",
       "min      -1.340000\n",
       "25%      -0.165000\n",
       "50%       0.160000\n",
       "75%       0.340000\n",
       "max       1.670000\n",
       "Name: gpa_delta, dtype: float64"
      ]
     },
     "execution_count": 7,
     "metadata": {},
     "output_type": "execute_result"
    }
   ],
   "source": [
    "accepted.gpa_delta.describe()"
   ]
  },
  {
   "cell_type": "code",
   "execution_count": 8,
   "metadata": {},
   "outputs": [
    {
     "data": {
      "text/plain": [
       "count    251.000000\n",
       "mean       0.066614\n",
       "std        0.493992\n",
       "min       -1.830000\n",
       "25%       -0.170000\n",
       "50%        0.000000\n",
       "75%        0.330000\n",
       "max        2.000000\n",
       "Name: gpa_delta, dtype: float64"
      ]
     },
     "execution_count": 8,
     "metadata": {},
     "output_type": "execute_result"
    }
   ],
   "source": [
    "not_accepted.gpa_delta.describe()"
   ]
  },
  {
   "cell_type": "code",
   "execution_count": 9,
   "metadata": {},
   "outputs": [
    {
     "data": {
      "text/plain": [
       "Ttest_indResult(statistic=0.8330400954506197, pvalue=0.40547610923636035)"
      ]
     },
     "execution_count": 9,
     "metadata": {},
     "output_type": "execute_result"
    }
   ],
   "source": [
    "ttest_ind(accepted.gpa_delta, not_accepted.gpa_delta)"
   ]
  },
  {
   "cell_type": "code",
   "execution_count": 39,
   "metadata": {},
   "outputs": [
    {
     "data": {
      "text/plain": [
       "<matplotlib.legend.Legend at 0x104983e10>"
      ]
     },
     "execution_count": 39,
     "metadata": {},
     "output_type": "execute_result"
    },
    {
     "data": {
      "image/png": "[encoded data removed]",
      "text/plain": [
       "<Figure size 432x288 with 1 Axes>"
      ]
     },
     "metadata": {
      "needs_background": "light"
     },
     "output_type": "display_data"
    }
   ],
   "source": [
    "t = accepted[accepted.live_with_mom.notnull()]\n",
    "\n",
    "ax = sns.distplot(accepted.gpa_delta,  kde=True, label='Accepted')\n",
    "sns.distplot(not_accepted.gpa_delta, ax=ax, kde=True, label='Not Accepted')\n",
    "plt.legend()"
   ]
  },
  {
   "cell_type": "code",
   "execution_count": 10,
   "metadata": {},
   "outputs": [
    {
     "data": {
      "text/plain": [
       "Ttest_1sampResult(statistic=1.616669132269748, pvalue=0.11177745505130127)"
      ]
     },
     "execution_count": 10,
     "metadata": {},
     "output_type": "execute_result"
    }
   ],
   "source": [
    "ttest_1samp(accepted.gpa_delta, 0)"
   ]
  },
  {
   "cell_type": "code",
   "execution_count": 34,
   "metadata": {},
   "outputs": [
    {
     "name": "stdout",
     "output_type": "stream",
     "text": [
      "live_with_mom Yes 16 0.436875\n",
      "mother_birth_country Mexico 18 0.32222222222222224\n",
      "live_with_father No 6 0.5516666666666667\n",
      "father_birth_country Don't Know 2 0.15000000000000008\n",
      "live_with_mexican_mother True 7 0.5228571428571429\n"
     ]
    }
   ],
   "source": [
    "def multi_2t_test(accepted, not_accepted):\n",
    "    for variable in ('sex','race_eth','live_with_mom','mother_birth_country','live_with_father','father_birth_country', 'mother_ed',\n",
    "                    'live_with_mexican_mother'):\n",
    "        for value in accepted[variable].unique():\n",
    "            accepted_gpa_diff = accepted[accepted[variable]==value].gpa_delta.dropna()\n",
    "            not_accepted_gpa_diff = not_accepted[not_accepted[variable]==value].gpa_delta.dropna()\n",
    "            tt = ttest_ind(accepted_gpa_diff, not_accepted_gpa_diff)\n",
    "            if tt.pvalue <= .05:\n",
    "                print(variable, value, len(accepted_gpa_diff), accepted_gpa_diff.mean())\n",
    "                \n",
    "multi_2t_test(accepted, not_accepted)"
   ]
  },
  {
   "cell_type": "code",
   "execution_count": 38,
   "metadata": {},
   "outputs": [
    {
     "data": {
      "text/plain": [
       "<matplotlib.legend.Legend at 0x128d4b550>"
      ]
     },
     "execution_count": 38,
     "metadata": {},
     "output_type": "execute_result"
    },
    {
     "data": {
      "image/png": "[encoded data removed]",
      "text/plain": [
       "<Figure size 432x288 with 1 Axes>"
      ]
     },
     "metadata": {
      "needs_background": "light"
     },
     "output_type": "display_data"
    }
   ],
   "source": [
    "\n",
    "t = accepted[accepted.live_with_mom.notnull()]\n",
    "\n",
    "ax = sns.distplot(t[t.live_with_mom == 'Yes'].gpa_delta,  kde=True, label='Lives With Mom')\n",
    "sns.distplot(t[t.live_with_mom == 'No'].gpa_delta, ax=ax, kde=True, label='Does Not Live With Mom')\n",
    "plt.legend()"
   ]
  },
  {
   "cell_type": "code",
   "execution_count": 41,
   "metadata": {},
   "outputs": [
    {
     "data": {
      "text/plain": [
       "<matplotlib.legend.Legend at 0x1065ecdd8>"
      ]
     },
     "execution_count": 41,
     "metadata": {},
     "output_type": "execute_result"
    },
    {
     "data": {
      "image/png": "[encoded data removed]",
      "text/plain": [
       "<Figure size 432x288 with 1 Axes>"
      ]
     },
     "metadata": {
      "needs_background": "light"
     },
     "output_type": "display_data"
    }
   ],
   "source": [
    "t = accepted[accepted.mother_birth_country.notnull()]\n",
    "\n",
    "ax = sns.distplot(t[t.mother_birth_country == 'Mexico'].gpa_delta,  kde=True, label='Mom Born Mexico')\n",
    "sns.distplot(t[t.mother_birth_country != 'Mexico'].gpa_delta, ax=ax, kde=True, label='Mom not Born Mexico')\n",
    "plt.legend()"
   ]
  }
 ],
 "metadata": {
  "kernelspec": {
   "display_name": "Python 3",
   "language": "python",
   "name": "python3"
  },
  "language_info": {
   "codemirror_mode": {
    "name": "ipython",
    "version": 3
   },
   "file_extension": ".py",
   "mimetype": "text/x-python",
   "name": "python",
   "nbconvert_exporter": "python",
   "pygments_lexer": "ipython3",
   "version": "3.7.3"
  }
 },
 "nbformat": 4,
 "nbformat_minor": 2
}
